{
 "cells": [
  {
   "cell_type": "markdown",
   "id": "f926d262-eac6-453c-b834-4ded9557c182",
   "metadata": {},
   "source": [
    "Q1. Create one variable containing following type of data:\n",
    "(i) string\n",
    "(ii) list\n",
    "(iii) float\n",
    "(iv) tuple\n"
   ]
  },
  {
   "cell_type": "code",
   "execution_count": 3,
   "id": "9c8e7fab-7ed6-4cd3-8144-598112a21466",
   "metadata": {},
   "outputs": [],
   "source": [
    "Str = \"python\"\n",
    "L = [1, 5, 9-7j, \"pws\"]\n",
    "F = 45.73\n",
    "T = (1, 2, \"data\", 9, 10)"
   ]
  },
  {
   "cell_type": "code",
   "execution_count": 4,
   "id": "1fd5c9f9-5c23-4c46-b472-2b81d75a5b81",
   "metadata": {},
   "outputs": [
    {
     "data": {
      "text/plain": [
       "tuple"
      ]
     },
     "execution_count": 4,
     "metadata": {},
     "output_type": "execute_result"
    }
   ],
   "source": [
    "type(T)"
   ]
  },
  {
   "cell_type": "markdown",
   "id": "28056573-5a0e-498d-b6b1-b0de534d4ab2",
   "metadata": {},
   "source": [
    "Q2. Given are some following variables containing data:\n",
    "(i) var1 = ‘ ‘\n",
    "(ii) var2 = ‘[ DS , ML , Python]’\n",
    "(iii) var3 = [ ‘DS’ , ’ML’ , ‘Python’ ]\n",
    "(iv) var4 = 1.\n",
    "What will be the data type of the above given variable."
   ]
  },
  {
   "cell_type": "markdown",
   "id": "7dbb4266-168e-4edd-b5bb-745727a437c8",
   "metadata": {},
   "source": [
    "var1 leads to error.\n",
    "var2 leads to error.\n",
    "var3 is List data type.\n",
    "var4 is Integer data type."
   ]
  },
  {
   "cell_type": "markdown",
   "id": "f8acef06-ddc1-4fa3-904e-65d7d400adab",
   "metadata": {},
   "source": [
    "Q3. Explain the use of the following operators using an example:\n",
    "(i) /\n",
    "(ii) %\n",
    "(iii) //\n",
    "(iv) **"
   ]
  },
  {
   "cell_type": "code",
   "execution_count": 8,
   "id": "f3552004-bb66-4245-8ed7-aa362661904c",
   "metadata": {},
   "outputs": [
    {
     "name": "stdout",
     "output_type": "stream",
     "text": [
      "6.0\n"
     ]
    }
   ],
   "source": [
    "a = 24\n",
    "b = 4\n",
    "c = 5\n",
    "\n",
    "d = a/b\n",
    "print(d)"
   ]
  },
  {
   "cell_type": "code",
   "execution_count": 9,
   "id": "5cc5a9aa-2a8e-4a0a-88cd-1bf99ac7214b",
   "metadata": {},
   "outputs": [
    {
     "name": "stdout",
     "output_type": "stream",
     "text": [
      "4\n"
     ]
    }
   ],
   "source": [
    "e = a%c\n",
    "print(e)"
   ]
  },
  {
   "cell_type": "code",
   "execution_count": 10,
   "id": "202a1f1f-be55-439b-bac2-9c94c0c45028",
   "metadata": {},
   "outputs": [
    {
     "name": "stdout",
     "output_type": "stream",
     "text": [
      "4\n"
     ]
    }
   ],
   "source": [
    "e = a//c\n",
    "print(e)"
   ]
  },
  {
   "cell_type": "code",
   "execution_count": 12,
   "id": "422c9725-8b97-48ef-93de-476f9910b13a",
   "metadata": {},
   "outputs": [
    {
     "name": "stdout",
     "output_type": "stream",
     "text": [
      "16\n"
     ]
    }
   ],
   "source": [
    "f = b**2\n",
    "print(f)"
   ]
  },
  {
   "cell_type": "markdown",
   "id": "12f41400-c597-45b5-b7ac-8a139c105bc9",
   "metadata": {},
   "source": [
    "Q4. Create a list of length 10 of your choice containing multiple types of data. Using for loop print the\n",
    "element and its data type."
   ]
  },
  {
   "cell_type": "code",
   "execution_count": 26,
   "id": "428dcb3a-c72d-4e19-acb1-40e71a24c238",
   "metadata": {},
   "outputs": [
    {
     "name": "stdout",
     "output_type": "stream",
     "text": [
      "<class 'int'> 1\n",
      "<class 'int'> 2\n",
      "<class 'int'> 3\n",
      "<class 'int'> 4\n",
      "<class 'int'> 5\n",
      "<class 'int'> 6\n",
      "<class 'str'> my 1st assignment\n",
      "<class 'complex'> (4+6j)\n",
      "<class 'tuple'> (8, 9, 4)\n",
      "<class 'float'> 5.97\n"
     ]
    }
   ],
   "source": [
    "l = [1, 2, 3, 4, 5, 6, \"my 1st assignment\", 4+6j, (8,9,4), 5.97]\n",
    "for i in l:\n",
    "    print(type(i), i)"
   ]
  },
  {
   "cell_type": "markdown",
   "id": "09564a09-fcee-45e0-8ce2-0f5fb8bedef2",
   "metadata": {},
   "source": [
    "Q5. Using a while loop, verify if the number A is purely divisible by number B and if so then how many\n",
    "times it can be divisible."
   ]
  },
  {
   "cell_type": "code",
   "execution_count": 27,
   "id": "bfe72ed9-537d-4ba8-9d59-3d962b795c84",
   "metadata": {},
   "outputs": [
    {
     "name": "stdin",
     "output_type": "stream",
     "text": [
      "enter no. A 20\n",
      "enter no. B 2\n"
     ]
    },
    {
     "name": "stdout",
     "output_type": "stream",
     "text": [
      "divisible by: 1\n",
      "divisible by: 2\n"
     ]
    }
   ],
   "source": [
    "A = int(input(\"enter no. A\"))\n",
    "B = int(input(\"enter no. B\"))\n",
    "i = 0\n",
    "if A%B == 0:\n",
    "    while (A%B == 0):\n",
    "        A = A/B\n",
    "        i = i+1\n",
    "        print('divisible by:', i)\n",
    "else:\n",
    "    print('not divisible')"
   ]
  },
  {
   "cell_type": "markdown",
   "id": "65c348a1-1fc6-49f6-9a24-9529eddcec36",
   "metadata": {},
   "source": [
    "Q6. Create a list containing 25 int type data. Using for loop and if-else condition print if the element is\n",
    "divisible by 3 or not."
   ]
  },
  {
   "cell_type": "code",
   "execution_count": 29,
   "id": "be012b37-dfe5-4bef-aef9-1170f9eac593",
   "metadata": {},
   "outputs": [
    {
     "data": {
      "text/plain": [
       "25"
      ]
     },
     "execution_count": 29,
     "metadata": {},
     "output_type": "execute_result"
    }
   ],
   "source": [
    "new_list = [3, 9, 10, 12, 15, 16, 45, 7, 6, 25, 13, 10, 19, 26, 27, 36, 100, 99, 11, 71, 81, 30, 33, 50, 60]\n",
    "len(new_list)"
   ]
  },
  {
   "cell_type": "code",
   "execution_count": 48,
   "id": "41aab237-e38a-4ad4-9bbe-4b560f7302f3",
   "metadata": {},
   "outputs": [
    {
     "name": "stdout",
     "output_type": "stream",
     "text": [
      "3 divisible by 3\n",
      "9 divisible by 3\n",
      "10 not divisible by 3\n",
      "12 divisible by 3\n",
      "15 divisible by 3\n",
      "16 not divisible by 3\n",
      "45 divisible by 3\n",
      "7 not divisible by 3\n",
      "6 divisible by 3\n",
      "25 not divisible by 3\n",
      "13 not divisible by 3\n",
      "10 not divisible by 3\n",
      "19 not divisible by 3\n",
      "26 not divisible by 3\n",
      "27 divisible by 3\n",
      "36 divisible by 3\n",
      "100 not divisible by 3\n",
      "99 divisible by 3\n",
      "11 not divisible by 3\n",
      "71 not divisible by 3\n",
      "81 divisible by 3\n",
      "30 divisible by 3\n",
      "33 divisible by 3\n",
      "50 not divisible by 3\n",
      "60 divisible by 3\n"
     ]
    }
   ],
   "source": [
    "for i in new_list:\n",
    "    if i%3 == 0:\n",
    "        print('{} divisible by 3'.format(i))\n",
    "    else:\n",
    "        print('{} not divisible by 3'.format(i))"
   ]
  },
  {
   "cell_type": "markdown",
   "id": "3a12bf49-9361-4738-8a55-e31a33cf894e",
   "metadata": {},
   "source": [
    "Q7. What do you understand about mutable and immutable data types? Give examples for both showing\n",
    "this property."
   ]
  },
  {
   "cell_type": "markdown",
   "id": "d3fabb36-5623-407b-9344-94dc3e055a46",
   "metadata": {},
   "source": [
    "In mutable data types, elements can be edited. (for example - list) \n",
    "In immutable data types, elements can't be edited. (for example - string, tuple)"
   ]
  },
  {
   "cell_type": "code",
   "execution_count": 49,
   "id": "61d214e7-5328-4ab0-9270-0be9ff0d85d3",
   "metadata": {},
   "outputs": [],
   "source": [
    "new_list[1] = 10"
   ]
  },
  {
   "cell_type": "code",
   "execution_count": 50,
   "id": "a42939e5-955d-446b-9914-6e9090acf199",
   "metadata": {},
   "outputs": [
    {
     "name": "stdout",
     "output_type": "stream",
     "text": [
      "10\n"
     ]
    }
   ],
   "source": [
    "print(new_list[1])"
   ]
  },
  {
   "cell_type": "code",
   "execution_count": 51,
   "id": "d1953d30-34f1-4232-826e-73b0951c1835",
   "metadata": {},
   "outputs": [
    {
     "name": "stdout",
     "output_type": "stream",
     "text": [
      "[3, 10, 10, 12, 15, 16, 45, 7, 6, 25, 13, 10, 19, 26, 27, 36, 100, 99, 11, 71, 81, 30, 33, 50, 60]\n"
     ]
    }
   ],
   "source": [
    "print(new_list)"
   ]
  },
  {
   "cell_type": "code",
   "execution_count": 54,
   "id": "32fbf939-cfe9-4ce8-b015-020644090f68",
   "metadata": {},
   "outputs": [
    {
     "ename": "SyntaxError",
     "evalue": "cannot assign to function call here. Maybe you meant '==' instead of '='? (865174056.py, line 2)",
     "output_type": "error",
     "traceback": [
      "\u001b[0;36m  Cell \u001b[0;32mIn[54], line 2\u001b[0;36m\u001b[0m\n\u001b[0;31m    tup(0) = 5\u001b[0m\n\u001b[0m    ^\u001b[0m\n\u001b[0;31mSyntaxError\u001b[0m\u001b[0;31m:\u001b[0m cannot assign to function call here. Maybe you meant '==' instead of '='?\n"
     ]
    }
   ],
   "source": [
    "tup = (1, 2, 3)\n",
    "tup(0) = 5\n",
    "print(tup)"
   ]
  },
  {
   "cell_type": "code",
   "execution_count": null,
   "id": "41c76b8b-3a00-4c15-8734-8199c8ae9f38",
   "metadata": {},
   "outputs": [],
   "source": []
  }
 ],
 "metadata": {
  "kernelspec": {
   "display_name": "Python 3 (ipykernel)",
   "language": "python",
   "name": "python3"
  },
  "language_info": {
   "codemirror_mode": {
    "name": "ipython",
    "version": 3
   },
   "file_extension": ".py",
   "mimetype": "text/x-python",
   "name": "python",
   "nbconvert_exporter": "python",
   "pygments_lexer": "ipython3",
   "version": "3.10.8"
  }
 },
 "nbformat": 4,
 "nbformat_minor": 5
}
